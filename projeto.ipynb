{
 "cells": [
  {
   "cell_type": "markdown",
   "id": "2f23b167",
   "metadata": {},
   "source": [
    "# Projeto Programação para a Ciência de Dados\n",
    "Urgências e Hospitais em Portugal"
   ]
  },
  {
   "cell_type": "markdown",
   "id": "4612e301",
   "metadata": {},
   "source": [
    "## Importar as bibliotecas necessárias"
   ]
  },
  {
   "cell_type": "code",
   "execution_count": 2,
   "id": "02d69909",
   "metadata": {},
   "outputs": [],
   "source": [
    "import pandas as pd\n",
    "import numpy as np\n",
    "import matplotlib.pyplot as plt\n",
    "\n",
    "from sklearn.linear_model import LinearRegression\n",
    "from sklearn import metrics\n",
    " \n",
    "# mostrar gráficos no notebook\n",
    "%matplotlib inline"
   ]
  },
  {
   "cell_type": "markdown",
   "id": "44abad2a",
   "metadata": {},
   "source": [
    "## Exportar os datesets necessários para o projeto"
   ]
  },
  {
   "cell_type": "code",
   "execution_count": null,
   "id": "e43a02ad",
   "metadata": {},
   "outputs": [
    {
     "name": "stdout",
     "output_type": "stream",
     "text": [
      "   Período Período.Format.2                 Região  \\\n",
      "0  2024-01       2024/01/01    Região de Saúde LVT   \n",
      "1  2024-01       2024/01/01  Região de Saúde Norte   \n",
      "2  2024-01       2024/01/01    Região de Saúde LVT   \n",
      "3  2024-01       2024/01/01  Região de Saúde Norte   \n",
      "4  2024-01       2024/01/01  Região de Saúde Norte   \n",
      "\n",
      "                                         Instituição  Localização Geográfica  \\\n",
      "0            Unidade Local de Saúde da Arrábida, EPE    38.529351, -8.881073   \n",
      "1  Unidade Local de Saúde da Póvoa de Varzim/Vila...    41.383183, -8.758784   \n",
      "2      Unidade Local de Saúde de Amadora/Sintra, EPE  38.7436332060551, -9.0   \n",
      "3               Unidade Local de Saúde de Braga, EPE   41.562328338623, -8.3   \n",
      "4  Unidade Local de Saúde de Entre Douro e Vouga,...       40.9295, -8.54567   \n",
      "\n",
      "   Urgências Geral  Urgências Pediátricas  Urgência Obstetricia  \\\n",
      "0           5433.0                 2425.0                 515.0   \n",
      "1           5536.0                    NaN                   NaN   \n",
      "2          13917.0                 3268.0                1303.0   \n",
      "3          11752.0                 4087.0                 998.0   \n",
      "4          15899.0                 2720.0                 630.0   \n",
      "\n",
      "   Urgência Psiquiátrica  Total Urgências  \n",
      "0                    NaN           8373.0  \n",
      "1                    NaN           5536.0  \n",
      "2                    NaN          18488.0  \n",
      "3                    NaN          16837.0  \n",
      "4                    NaN          19249.0  \n",
      "   Período  Código Capítulo Diagnóstico Principal  \\\n",
      "0  2019-07                                      1   \n",
      "1  2019-07                                      1   \n",
      "2  2019-07                                      1   \n",
      "3  2019-07                                      1   \n",
      "4  2019-07                                      2   \n",
      "\n",
      "                                        Instituição                   Regiões  \\\n",
      "0           Unidade Local de Saúde do Oeste, E.P.E.       Região de Saúde LVT   \n",
      "1  Unidade Local de Saúde do Tâmega e Sousa, E.P.E.  Região de Saúde do Norte   \n",
      "2  Unidade Local de Saúde do Tâmega e Sousa, E.P.E.  Região de Saúde do Norte   \n",
      "3  Unidade Local de Saúde do Tâmega e Sousa, E.P.E.  Região de Saúde do Norte   \n",
      "4           Hospital de Cascais Dr. José de Almeida       Região de Saúde LVT   \n",
      "\n",
      "     Descrição Capítulo Diagnóstico Principal Faixa Etária Sexo  \\\n",
      "0  Algumas doenças infecciosas e parasitárias       [5-15[    F   \n",
      "1  Algumas doenças infecciosas e parasitárias        [1-5[    M   \n",
      "2  Algumas doenças infecciosas e parasitárias      [45-65[    F   \n",
      "3  Algumas doenças infecciosas e parasitárias       [5-15[    F   \n",
      "4                                  Neoplasias      [45-65[    F   \n",
      "\n",
      "   Internamentos  Dias de Internamento  Ambulatório  Óbitos  \n",
      "0              1                     1            0       0  \n",
      "1              3                    14            0       0  \n",
      "2              2                    12            0       1  \n",
      "3              2                     7            0       0  \n",
      "4              8                   264            2       1  \n"
     ]
    }
   ],
   "source": [
    "urgencias = pd.read_csv('datasets/atendimentos-por-urgencia.csv', sep=';')\n",
    "morbilidade = pd.read_csv('datasets/morbilidade.csv', sep=';')\n",
    "\n",
    "print(urgencias.head())\n",
    "print(morbilidade.head())"
   ]
  }
 ],
 "metadata": {
  "kernelspec": {
   "display_name": ".venv",
   "language": "python",
   "name": "python3"
  },
  "language_info": {
   "codemirror_mode": {
    "name": "ipython",
    "version": 3
   },
   "file_extension": ".py",
   "mimetype": "text/x-python",
   "name": "python",
   "nbconvert_exporter": "python",
   "pygments_lexer": "ipython3",
   "version": "3.12.3"
  }
 },
 "nbformat": 4,
 "nbformat_minor": 5
}
